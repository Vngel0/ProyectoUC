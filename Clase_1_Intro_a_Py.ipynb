{
  "nbformat": 4,
  "nbformat_minor": 0,
  "metadata": {
    "colab": {
      "name": "Clase 1 - Intro a Py.ipynb",
      "provenance": [],
      "collapsed_sections": [],
      "include_colab_link": true
    },
    "kernelspec": {
      "display_name": "Python 3",
      "language": "python",
      "name": "python3"
    },
    "language_info": {
      "codemirror_mode": {
        "name": "ipython",
        "version": 3
      },
      "file_extension": ".py",
      "mimetype": "text/x-python",
      "name": "python",
      "nbconvert_exporter": "python",
      "pygments_lexer": "ipython3",
      "version": "3.8.3"
    }
  },
  "cells": [
    {
      "cell_type": "markdown",
      "metadata": {
        "id": "view-in-github",
        "colab_type": "text"
      },
      "source": [
        "<a href=\"https://colab.research.google.com/github/Vngel0/ProyectoUC/blob/main/Clase_1_Intro_a_Py.ipynb\" target=\"_parent\"><img src=\"https://colab.research.google.com/assets/colab-badge.svg\" alt=\"Open In Colab\"/></a>"
      ]
    },
    {
      "cell_type": "markdown",
      "metadata": {
        "id": "tku7wIXCvYdr"
      },
      "source": [
        "# Introducción a `python`\n",
        "\n",
        "---\n",
        "\n",
        "Python es un lenguaje de programación ampliamente usado en Data Science. \n",
        "\n",
        "| Pros | Contras |\n",
        "|------|---------|\n",
        "| Sintaxis limpia | Single Thread por defecto|\n",
        "| Rapidez de prototipado | Librerías estadísticas específicas menos desarrolladas|\n",
        "| Lenguaje de programacion completo | |\n",
        "| Open Source | |\n",
        "\n",
        "Más de alguna vez hemos escuchado \"¿`python` o `R` , cuál es mejor?\", al final del día parte de la labor de un Data Scientist es elegir la herramienta correcta para el problema (y usuario) correcto.\n",
        "\n",
        "Usaremos `python`durante el módulo de Machine Learning del diplomado, por lo que dedicaremos algunas semanas para aprender cómo transicionar los conocimientos adquiridos en `R`. \n",
        "\n",
        "## Google colab\n",
        "La plataforma en la que están estas clases se llama *google colab* y consiste en un servicio gestionado por google de **Jupyter Notebooks**, una herramienta que incorpora código y texto simultaneamente. Cada celda puede ser de tipo **texto** (markdown) o **código** (python). La capacidad de incorporar estas dos facetas convierte a los notebooks en una herramienta predilecta del Data Scientist\n"
      ]
    },
    {
      "cell_type": "markdown",
      "metadata": {
        "id": "dB15dDa228Yp"
      },
      "source": [
        "Ejecutar una sola linea: `ctrl +  enter`"
      ]
    },
    {
      "cell_type": "code",
      "metadata": {
        "colab": {
          "base_uri": "https://localhost:8080/"
        },
        "id": "FcVYjfLn2fPe",
        "outputId": "aeb1c1e0-e8a3-4332-e601-c67b730e9112"
      },
      "source": [
        "print(\"Bienvenidos al curso de Machine Learning\")\n",
        "print(\"Esta es una celda de código\")\n",
        "print(\"Esta línea si se ejecuta. Ya no es un comentario\")"
      ],
      "execution_count": 1,
      "outputs": [
        {
          "output_type": "stream",
          "text": [
            "Bienvenidos al curso de Machine Learning\n",
            "Esta es una celda de código\n",
            "Esta línea si se ejecuta. Ya no es un comentario\n"
          ],
          "name": "stdout"
        }
      ]
    },
    {
      "cell_type": "markdown",
      "metadata": {
        "id": "FEXdMA4sqmeQ"
      },
      "source": [
        "Recordemos las primeras operaciones que realizaron en `R` y su equivalencia en `python`\n",
        "\n",
        "- Asignar Variables\n",
        "```\n",
        "poleras <- c(254,203,182,50)\n",
        "meses <- c(\"Ene\",\"Feb\", \"Mar\", \"Abr\")\n",
        "```\n"
      ]
    },
    {
      "cell_type": "code",
      "metadata": {
        "id": "3MKf2obJmgoz"
      },
      "source": [
        "# Una variable almacena un valor:\n",
        "dia_mes = 15\n",
        "tienda = \"Jhonson's\"\n",
        "# Una lista almacena muchos valores a la vez\n",
        "poleras = [100, 200, 305]\n",
        "meses = [\"Ene\", \"Feb\", \"Mar\"]"
      ],
      "execution_count": 2,
      "outputs": []
    },
    {
      "cell_type": "markdown",
      "metadata": {
        "id": "CncXFnyGsxgC"
      },
      "source": [
        "- Operaciones aritméticas\n",
        "```\n",
        "2 + (4*5) - exp(3)\n",
        "log(5) + pi/sqrt(5)\n",
        "```"
      ]
    },
    {
      "cell_type": "markdown",
      "metadata": {
        "id": "iqhBb7-V6HKl"
      },
      "source": [
        "### Librerias: Similar a R, las librerias son funciones que no vienen nativas en Python, pero pueden ser importadas (como los packages!)"
      ]
    },
    {
      "cell_type": "markdown",
      "metadata": {
        "id": "Ll-8yIV0Kc1W"
      },
      "source": [
        "Para poder trabajar con una lista de la forma que lo haciamos en algebra lineal, es necesario que usemos la libreria numpy, y transformemos nuestra lista en un vector, ya que en R podíamos mutiplicar un vector por un escalar sin problemas, en python las listas por defecto dejan de ser vectores:"
      ]
    },
    {
      "cell_type": "code",
      "metadata": {
        "id": "tiDd7y6HKc1W",
        "colab": {
          "base_uri": "https://localhost:8080/"
        },
        "outputId": "0ca37a23-d0c2-430e-e47d-c4a65fdd6ea1"
      },
      "source": [
        "poleras*2"
      ],
      "execution_count": 3,
      "outputs": [
        {
          "output_type": "execute_result",
          "data": {
            "text/plain": [
              "[100, 200, 305, 100, 200, 305]"
            ]
          },
          "metadata": {
            "tags": []
          },
          "execution_count": 3
        }
      ]
    },
    {
      "cell_type": "code",
      "metadata": {
        "id": "e6Hgt2q3Kc1X"
      },
      "source": [
        "import numpy as np"
      ],
      "execution_count": null,
      "outputs": []
    },
    {
      "cell_type": "markdown",
      "metadata": {
        "id": "LAf1cDYYKc1X"
      },
      "source": [
        "Cuando importamos una libreria, le podemos poner cualquier nombre, por convención la gente usa np para numpy.\n",
        "Uno podria usar cualquier cosa, pero se suele seguir la convención para facilidad de lectura de códigos"
      ]
    },
    {
      "cell_type": "code",
      "metadata": {
        "colab": {
          "base_uri": "https://localhost:8080/",
          "height": 51
        },
        "id": "LYHw_cUZ5bfQ",
        "outputId": "fd4cba3a-6973-47e6-9eea-eaa7a8ffa9b7"
      },
      "source": [
        "np.array(poleras)"
      ],
      "execution_count": null,
      "outputs": [
        {
          "output_type": "execute_result",
          "data": {
            "text/plain": [
              "array([100, 200, 305])"
            ]
          },
          "metadata": {
            "tags": []
          },
          "execution_count": 5
        }
      ]
    },
    {
      "cell_type": "markdown",
      "metadata": {
        "id": "EtUh-YjlKc1Y"
      },
      "source": [
        "Ahora podemos utilizar nuestro array de manera lineal"
      ]
    },
    {
      "cell_type": "code",
      "metadata": {
        "id": "NmnOJzwKKc1Y",
        "outputId": "fd6b92ae-7719-457b-cbdb-4d3faf180eb8"
      },
      "source": [
        "np.array(poleras)*2"
      ],
      "execution_count": null,
      "outputs": [
        {
          "output_type": "execute_result",
          "data": {
            "text/plain": [
              "array([200, 400, 610])"
            ]
          },
          "metadata": {
            "tags": []
          },
          "execution_count": 6
        }
      ]
    },
    {
      "cell_type": "markdown",
      "metadata": {
        "id": "gPaSmU8UKc1Y"
      },
      "source": [
        "Con esta libreria logramos hacer la mayoria de los calculos que usualmente utilizaremos, que por defecto no hubiesemos podido, por ejemplo:"
      ]
    },
    {
      "cell_type": "code",
      "metadata": {
        "id": "Da748Gz4Kc1Y",
        "outputId": "6a0a6fab-2146-4e5e-ced3-e3d9a2fc11b8"
      },
      "source": [
        "log(5) #el comando log no es nativo en python"
      ],
      "execution_count": null,
      "outputs": [
        {
          "output_type": "error",
          "ename": "NameError",
          "evalue": "name 'log' is not defined",
          "traceback": [
            "\u001b[1;31m---------------------------------------------------------------------------\u001b[0m",
            "\u001b[1;31mNameError\u001b[0m                                 Traceback (most recent call last)",
            "\u001b[1;32m<ipython-input-7-d1569dbe30b4>\u001b[0m in \u001b[0;36m<module>\u001b[1;34m\u001b[0m\n\u001b[1;32m----> 1\u001b[1;33m \u001b[0mlog\u001b[0m\u001b[1;33m(\u001b[0m\u001b[1;36m5\u001b[0m\u001b[1;33m)\u001b[0m \u001b[1;31m#el comando log no es nativo en python\u001b[0m\u001b[1;33m\u001b[0m\u001b[1;33m\u001b[0m\u001b[0m\n\u001b[0m",
            "\u001b[1;31mNameError\u001b[0m: name 'log' is not defined"
          ]
        }
      ]
    },
    {
      "cell_type": "code",
      "metadata": {
        "id": "_TPEjuf5Kc1Y",
        "outputId": "cc74621f-e3d1-4a16-9e2e-95f41650b87a"
      },
      "source": [
        "np.log(5)"
      ],
      "execution_count": null,
      "outputs": [
        {
          "output_type": "execute_result",
          "data": {
            "text/plain": [
              "1.6094379124341003"
            ]
          },
          "metadata": {
            "tags": []
          },
          "execution_count": 8
        }
      ]
    },
    {
      "cell_type": "code",
      "metadata": {
        "colab": {
          "base_uri": "https://localhost:8080/",
          "height": 34
        },
        "id": "5ANQVydM2kJM",
        "outputId": "09c48e54-3120-4f5b-c151-f8c60b5a628e"
      },
      "source": [
        "from math import * # no es la forma mas usada de importar librerias\n",
        "2 + (4*5) - exp(3)\n",
        "log(5) + pi / sqrt(5)"
      ],
      "execution_count": null,
      "outputs": [
        {
          "output_type": "execute_result",
          "data": {
            "text/plain": [
              "3.0144008586422455"
            ]
          },
          "metadata": {
            "tags": []
          },
          "execution_count": 9
        }
      ]
    },
    {
      "cell_type": "markdown",
      "metadata": {
        "id": "wUj_JGFVKc1Z"
      },
      "source": [
        "Notemos que ahora la palabra log se entiende como la función logaritmo, pues ha sido importada de las funciones math"
      ]
    },
    {
      "cell_type": "code",
      "metadata": {
        "colab": {
          "base_uri": "https://localhost:8080/",
          "height": 34
        },
        "id": "HTWU05Mt8KEh",
        "outputId": "16135438-d147-411e-f6df-193129b25c4e"
      },
      "source": [
        "from math import log10 as mylog10\n",
        "mylog10(1000)"
      ],
      "execution_count": null,
      "outputs": [
        {
          "output_type": "execute_result",
          "data": {
            "text/plain": [
              "3.0"
            ]
          },
          "metadata": {
            "tags": []
          },
          "execution_count": 10
        }
      ]
    },
    {
      "cell_type": "markdown",
      "metadata": {
        "id": "8Saeng2X8-nN"
      },
      "source": [
        "Librerias que vamos a estudiar:\n",
        "- os: dirección del directorio en cual trabajaremos\n",
        "- numpy: datos\n",
        "- pandas: tablas \n",
        "- sklearn: ML\n",
        "- matplotlib y seaborn: graficos\n",
        "- scipy: estadistica"
      ]
    },
    {
      "cell_type": "code",
      "metadata": {
        "id": "XKrRDO3b5E6D"
      },
      "source": [
        "import os\n",
        "import numpy as np\n",
        "import pandas as pd"
      ],
      "execution_count": null,
      "outputs": []
    },
    {
      "cell_type": "markdown",
      "metadata": {
        "id": "XPEJEeJ1Kc1a"
      },
      "source": [
        "Una buena práctica siempre es predeterminar el directorio donde trabajaremos"
      ]
    },
    {
      "cell_type": "code",
      "metadata": {
        "id": "VGtRjL4pKc1a",
        "outputId": "e39664c0-df91-4a98-d63c-361a225a8e33"
      },
      "source": [
        "os.getcwd()"
      ],
      "execution_count": null,
      "outputs": [
        {
          "output_type": "execute_result",
          "data": {
            "text/plain": [
              "'C:\\\\Users\\\\Felipe\\\\clases_originales_uc'"
            ]
          },
          "metadata": {
            "tags": []
          },
          "execution_count": 12
        }
      ]
    },
    {
      "cell_type": "code",
      "metadata": {
        "id": "v-MKS0tkKc1a"
      },
      "source": [
        "ruta = \"C:\\\\Users\\\\Felipe\\\\Desktop\\\\Diplo UC\\\\clase1\"\n",
        "os.chdir(ruta)"
      ],
      "execution_count": null,
      "outputs": []
    },
    {
      "cell_type": "markdown",
      "metadata": {
        "id": "_M2mE-bltAtv"
      },
      "source": [
        "- Leer y escribir una tabla a `.csv`\n",
        "\n",
        "```\n",
        "write.csv(cbind(meses, poleras),\"poleras.csv\")\n",
        "read.csv(\"poleras.csv\")\n",
        "```"
      ]
    },
    {
      "cell_type": "code",
      "metadata": {
        "id": "h6K2ikEsKc1a"
      },
      "source": [
        "data = {\"meses\": meses, \"poleras\": poleras}\n",
        "df = pd.DataFrame(data)"
      ],
      "execution_count": null,
      "outputs": []
    },
    {
      "cell_type": "code",
      "metadata": {
        "id": "JmW3XExZKc1a",
        "outputId": "897be373-7266-4ecf-eda7-be8b5a50c731"
      },
      "source": [
        "df"
      ],
      "execution_count": null,
      "outputs": [
        {
          "output_type": "execute_result",
          "data": {
            "text/html": [
              "<div>\n",
              "<style scoped>\n",
              "    .dataframe tbody tr th:only-of-type {\n",
              "        vertical-align: middle;\n",
              "    }\n",
              "\n",
              "    .dataframe tbody tr th {\n",
              "        vertical-align: top;\n",
              "    }\n",
              "\n",
              "    .dataframe thead th {\n",
              "        text-align: right;\n",
              "    }\n",
              "</style>\n",
              "<table border=\"1\" class=\"dataframe\">\n",
              "  <thead>\n",
              "    <tr style=\"text-align: right;\">\n",
              "      <th></th>\n",
              "      <th>meses</th>\n",
              "      <th>poleras</th>\n",
              "    </tr>\n",
              "  </thead>\n",
              "  <tbody>\n",
              "    <tr>\n",
              "      <th>0</th>\n",
              "      <td>Ene</td>\n",
              "      <td>100</td>\n",
              "    </tr>\n",
              "    <tr>\n",
              "      <th>1</th>\n",
              "      <td>Feb</td>\n",
              "      <td>200</td>\n",
              "    </tr>\n",
              "    <tr>\n",
              "      <th>2</th>\n",
              "      <td>Mar</td>\n",
              "      <td>305</td>\n",
              "    </tr>\n",
              "  </tbody>\n",
              "</table>\n",
              "</div>"
            ],
            "text/plain": [
              "  meses  poleras\n",
              "0   Ene      100\n",
              "1   Feb      200\n",
              "2   Mar      305"
            ]
          },
          "metadata": {
            "tags": []
          },
          "execution_count": 15
        }
      ]
    },
    {
      "cell_type": "code",
      "metadata": {
        "id": "-r9xlwVKKc1b",
        "outputId": "4f5ea001-dd6b-400e-c0c6-697217aee555"
      },
      "source": [
        "df['poleras'] * 2"
      ],
      "execution_count": null,
      "outputs": [
        {
          "output_type": "execute_result",
          "data": {
            "text/plain": [
              "0    200\n",
              "1    400\n",
              "2    610\n",
              "Name: poleras, dtype: int64"
            ]
          },
          "metadata": {
            "tags": []
          },
          "execution_count": 16
        }
      ]
    },
    {
      "cell_type": "markdown",
      "metadata": {
        "id": "EqK88etcKc1b"
      },
      "source": [
        "Nota: Pandas trabaja con numpy por debajo, por ello entiende el trabajo matricial que realizar"
      ]
    },
    {
      "cell_type": "code",
      "metadata": {
        "id": "9xC623sqKc1b"
      },
      "source": [
        "df.to_csv(\"poleras.csv\")"
      ],
      "execution_count": null,
      "outputs": []
    },
    {
      "cell_type": "markdown",
      "metadata": {
        "id": "Qw9gulJhvi9N"
      },
      "source": [
        "- Gráficos simples\n",
        "```\n",
        "plot(poleras)\n",
        "barplot(poleras,names.arg = meses,col=\"orange\",main=\"Cantidad de poleas por mes\")\n",
        "```"
      ]
    },
    {
      "cell_type": "code",
      "metadata": {
        "colab": {
          "base_uri": "https://localhost:8080/",
          "height": 290
        },
        "id": "6yV20YzzuTMv",
        "outputId": "a8449f47-602c-4be2-9d25-f32027933e97"
      },
      "source": [
        "from matplotlib import pyplot as plt\n",
        "df.plot(kind='bar', title='Cantidad de poleras por mes')\n",
        "plt.xticks(range(3), meses);"
      ],
      "execution_count": null,
      "outputs": [
        {
          "output_type": "display_data",
          "data": {
            "image/png": "[encoded data removed]",
            "text/plain": [
              "<Figure size 432x288 with 1 Axes>"
            ]
          },
          "metadata": {
            "tags": [],
            "needs_background": "light"
          }
        }
      ]
    },
    {
      "cell_type": "markdown",
      "metadata": {
        "id": "kw_rSS343vRR"
      },
      "source": [
        "Python se caracteriza por tener soporte para una amplia gama de tareas a través de sus librerías. La librería pandas (data estructurada) y matplotlib (visualización) las estudiaremos en la semana 2 y 3. "
      ]
    },
    {
      "cell_type": "markdown",
      "metadata": {
        "id": "HAxFk9-ee51B"
      },
      "source": [
        "- Conjuntos de datos\n",
        "\n",
        "La librería `numpy` implementa el *arreglo* y operaciones con conjuntos de datos\n"
      ]
    },
    {
      "cell_type": "code",
      "metadata": {
        "colab": {
          "base_uri": "https://localhost:8080/",
          "height": 51
        },
        "id": "RleYEDXx_o64",
        "outputId": "acbdae27-98f2-47b4-f636-5a018e178932"
      },
      "source": [
        "np.array(poleras + meses)"
      ],
      "execution_count": null,
      "outputs": [
        {
          "output_type": "execute_result",
          "data": {
            "text/plain": [
              "array(['100', '200', '305', 'Ene', 'Feb', 'Mar'], dtype='<U11')"
            ]
          },
          "metadata": {
            "tags": []
          },
          "execution_count": 19
        }
      ]
    },
    {
      "cell_type": "code",
      "metadata": {
        "colab": {
          "base_uri": "https://localhost:8080/",
          "height": 34
        },
        "id": "YxL5RO3r4CEg",
        "outputId": "4617827b-9ea1-4c64-ae0f-d26b54808c66"
      },
      "source": [
        "arr = np.arange(5)\n",
        "arr"
      ],
      "execution_count": null,
      "outputs": [
        {
          "output_type": "execute_result",
          "data": {
            "text/plain": [
              "array([0, 1, 2, 3, 4])"
            ]
          },
          "metadata": {
            "tags": []
          },
          "execution_count": 20
        }
      ]
    },
    {
      "cell_type": "markdown",
      "metadata": {
        "id": "9Snugk44fjoK"
      },
      "source": [
        "La selección de elementos se hace mediante índices **que parten desde cero (!)** dentro de corchetes."
      ]
    },
    {
      "cell_type": "code",
      "metadata": {
        "colab": {
          "base_uri": "https://localhost:8080/",
          "height": 34
        },
        "id": "ZUgduQkc4Eb7",
        "outputId": "2d217bd6-b966-4e57-cf8b-1af8f90684e1"
      },
      "source": [
        "print(arr[0], arr[2:4], arr[-1])\n",
        "arr[:3]"
      ],
      "execution_count": null,
      "outputs": [
        {
          "output_type": "stream",
          "text": [
            "0 [2 3] 4\n"
          ],
          "name": "stdout"
        },
        {
          "output_type": "execute_result",
          "data": {
            "text/plain": [
              "array([0, 1, 2])"
            ]
          },
          "metadata": {
            "tags": []
          },
          "execution_count": 21
        }
      ]
    },
    {
      "cell_type": "markdown",
      "metadata": {
        "id": "c8HJivD-Bg4m"
      },
      "source": [
        "`l = [1, 2, 3, 4, 5, 6, 7, 8, 9]`\n",
        "\n",
        "`l[0:2]`\n",
        "\n",
        "`l[2:4]`\n",
        "\n",
        "`l[4:6]`"
      ]
    },
    {
      "cell_type": "markdown",
      "metadata": {
        "id": "BmxbAWN6f9rA"
      },
      "source": [
        "Una matriz es simplemente un arreglo de arreglos y sus elementos se acceden usando 2 indices"
      ]
    },
    {
      "cell_type": "code",
      "metadata": {
        "colab": {
          "base_uri": "https://localhost:8080/",
          "height": 238
        },
        "id": "d09KTluOfKs4",
        "outputId": "2396fac5-3d8b-428e-8726-84cb140f349a"
      },
      "source": [
        "mat = np.random.randint(low=0, high=10, size=(3, 4))\n",
        "\n",
        "print(\"Una matriz\")\n",
        "print(mat)\n",
        "print(\"Un elemento\")\n",
        "print(mat[1, 2])\n",
        "print(\"Una fila\")\n",
        "print(mat[1, :])\n",
        "print(\"Una columna\")\n",
        "print(mat[:, 1])\n",
        "print(\"Un subconjunto\")\n",
        "print(mat[0:2, 1:4])"
      ],
      "execution_count": null,
      "outputs": [
        {
          "output_type": "stream",
          "text": [
            "Una matriz\n",
            "[[3 3 9 3]\n",
            " [9 3 0 0]\n",
            " [6 0 9 0]]\n",
            "Un elemento\n",
            "0\n",
            "Una fila\n",
            "[9 3 0 0]\n",
            "Una columna\n",
            "[3 3 0]\n",
            "Un subconjunto\n",
            "[[3 9 3]\n",
            " [3 0 0]]\n"
          ],
          "name": "stdout"
        }
      ]
    },
    {
      "cell_type": "markdown",
      "metadata": {
        "id": "Ecqc-aToh108"
      },
      "source": [
        "Otra forma de seleccionar datos es usando operaciones lógicas, mediante las que podemos extraer solo los datos que cumplan ciertos requisitos. Por ejemplo: creamos una población normalmente distribuida de estaturas, con media $\\mu=160$cm y desviación estándar $\\sigma=5$cm"
      ]
    },
    {
      "cell_type": "code",
      "metadata": {
        "colab": {
          "base_uri": "https://localhost:8080/",
          "height": 51
        },
        "id": "ttJSt2Lcff8S",
        "outputId": "d4e3dab2-469c-45c9-8991-a8af8a9a97a8"
      },
      "source": [
        "estaturas = np.random.normal(loc=160, scale=5, size=10000)\n",
        "estaturas"
      ],
      "execution_count": null,
      "outputs": [
        {
          "output_type": "execute_result",
          "data": {
            "text/plain": [
              "array([160.96773244, 165.22080403, 160.00287597, ..., 161.38349642,\n",
              "       164.75819224, 164.38073883])"
            ]
          },
          "metadata": {
            "tags": []
          },
          "execution_count": 23
        }
      ]
    },
    {
      "cell_type": "markdown",
      "metadata": {
        "id": "Sdv3HYsuiqQH"
      },
      "source": [
        "Cuántas personas tienen estatura mayor a 175 ?"
      ]
    },
    {
      "cell_type": "code",
      "metadata": {
        "colab": {
          "base_uri": "https://localhost:8080/",
          "height": 51
        },
        "id": "7OlASQE7ikc-",
        "outputId": "84337f1c-cc24-4813-d1d4-705a84803c30"
      },
      "source": [
        "cond1 = estaturas > 159\n",
        "cond2 = estaturas < 161\n",
        "\n",
        "estaturas[(estaturas >= 159) & (estaturas <= 161)] # Otros operadores: distinto != , no ~, o | \n",
        "estaturas[cond1 & cond2] ## Estas dos cosas son lo mismo"
      ],
      "execution_count": null,
      "outputs": [
        {
          "output_type": "execute_result",
          "data": {
            "text/plain": [
              "array([160.96773244, 160.00287597, 159.22448381, ..., 159.7637772 ,\n",
              "       160.35804007, 160.02473884])"
            ]
          },
          "metadata": {
            "tags": []
          },
          "execution_count": 24
        }
      ]
    },
    {
      "cell_type": "markdown",
      "metadata": {
        "id": "6DVDW7EWsbek"
      },
      "source": [
        "- Estadística Descriptiva.\n",
        "\n",
        "\n",
        "| Sintaxis\t| Descripcion |\n",
        "|-----------|-------------|\n",
        "min() |\tMinimo\n",
        "max()\t| Maximo\n",
        "ptp()\t| Rango\n",
        "percentile(a, p)\t| Percentil p\n",
        "median(a)\t| Mediana\n",
        "mean()\t| Promedio\n",
        "std()\t| Desviacion Standard\n",
        "var()\t| Varianza"
      ]
    },
    {
      "cell_type": "code",
      "metadata": {
        "colab": {
          "base_uri": "https://localhost:8080/",
          "height": 85
        },
        "id": "PSbA4zcNtQ00",
        "outputId": "ac9e456f-2acd-4a7d-9c56-e7a65da78270"
      },
      "source": [
        "print(\"promedio:\")\n",
        "print(np.mean(estaturas[estaturas > 175]))\n",
        "print(\"varianza:\")\n",
        "print(np.var(estaturas))"
      ],
      "execution_count": null,
      "outputs": [
        {
          "output_type": "stream",
          "text": [
            "promedio:\n",
            "176.1097090404634\n",
            "varianza:\n",
            "25.108050998783682\n"
          ],
          "name": "stdout"
        }
      ]
    },
    {
      "cell_type": "markdown",
      "metadata": {
        "id": "dYlf1IaAkv0R"
      },
      "source": [
        "- Estructuras de control. Principalmente usaremos estructuras condicionales `if-else`, `np.where` y ciclos `for`"
      ]
    },
    {
      "cell_type": "markdown",
      "metadata": {
        "id": "qZ_-tAH3Kc1f"
      },
      "source": [
        "`Python` a diferencia de `R` trabaja con identación en vez de parentesis de llave para encapsular lo que está dentro de una estructura de control (ciclo, función, etc). La identación es un tabulador o 4 espacios sucesivos a la linea siguiente (enter) de la estructura de control. Es decir, algo que en `R` sería de la siguiente forma:\n",
        "```\n",
        "if(condicion){\n",
        "acción\n",
        "}\n",
        "```\n",
        "En `python` sería de la siguiente estructura:\n",
        "```\n",
        "if condicion:\n",
        "    acción\n",
        "```\n",
        "(¡Notar los 4 espacios debajo del if!)"
      ]
    },
    {
      "cell_type": "code",
      "metadata": {
        "colab": {
          "base_uri": "https://localhost:8080/",
          "height": 51
        },
        "id": "lCCVu7Ozi_ji",
        "outputId": "15d16a5a-18b3-4e61-c4ce-2d8cacf2540f"
      },
      "source": [
        "nota = 3.5\n",
        "\n",
        "if nota > 5.5:\n",
        "    print('Eximido')\n",
        "elif nota > 4.0:\n",
        "    print('A dar examen')\n",
        "else:\n",
        "    print('A Salvar el ramo')"
      ],
      "execution_count": null,
      "outputs": [
        {
          "output_type": "stream",
          "text": [
            "A Salvar el ramo\n"
          ],
          "name": "stdout"
        }
      ]
    },
    {
      "cell_type": "markdown",
      "metadata": {
        "id": "AdYuAE58Kc1f"
      },
      "source": [
        "Si deseamos evaluar de forma secuencial varias preguntas para un vector, la funcion np.where es la solución, la cual funciona como:\n",
        "\n",
        "np.where( condicion, que hacer si es cierto, que hacer si es falso ) y se puede colocar un np where dentro de otro:"
      ]
    },
    {
      "cell_type": "code",
      "metadata": {
        "id": "wHNSytAlKc1f",
        "outputId": "18e59cdb-74eb-452e-b39b-2f56fdf564d6"
      },
      "source": [
        "notas = {\"notas\": [7,2.8,5.2,6.3]}\n",
        "df2 = pd.DataFrame(notas)\n",
        "df2"
      ],
      "execution_count": null,
      "outputs": [
        {
          "output_type": "execute_result",
          "data": {
            "text/html": [
              "<div>\n",
              "<style scoped>\n",
              "    .dataframe tbody tr th:only-of-type {\n",
              "        vertical-align: middle;\n",
              "    }\n",
              "\n",
              "    .dataframe tbody tr th {\n",
              "        vertical-align: top;\n",
              "    }\n",
              "\n",
              "    .dataframe thead th {\n",
              "        text-align: right;\n",
              "    }\n",
              "</style>\n",
              "<table border=\"1\" class=\"dataframe\">\n",
              "  <thead>\n",
              "    <tr style=\"text-align: right;\">\n",
              "      <th></th>\n",
              "      <th>notas</th>\n",
              "    </tr>\n",
              "  </thead>\n",
              "  <tbody>\n",
              "    <tr>\n",
              "      <th>0</th>\n",
              "      <td>7.0</td>\n",
              "    </tr>\n",
              "    <tr>\n",
              "      <th>1</th>\n",
              "      <td>2.8</td>\n",
              "    </tr>\n",
              "    <tr>\n",
              "      <th>2</th>\n",
              "      <td>5.2</td>\n",
              "    </tr>\n",
              "    <tr>\n",
              "      <th>3</th>\n",
              "      <td>6.3</td>\n",
              "    </tr>\n",
              "  </tbody>\n",
              "</table>\n",
              "</div>"
            ],
            "text/plain": [
              "   notas\n",
              "0    7.0\n",
              "1    2.8\n",
              "2    5.2\n",
              "3    6.3"
            ]
          },
          "metadata": {
            "tags": []
          },
          "execution_count": 27
        }
      ]
    },
    {
      "cell_type": "code",
      "metadata": {
        "id": "zQ1et-n3Kc1f",
        "outputId": "379bcfae-0a24-49b5-a078-63b747683cad"
      },
      "source": [
        "np.where(df2['notas']>=5.5,'Eximido',\n",
        "         np.where(df2['notas']>=4.0,'a dar examen','A Salvar el ramo')  )"
      ],
      "execution_count": null,
      "outputs": [
        {
          "output_type": "execute_result",
          "data": {
            "text/plain": [
              "array(['Eximido', 'A Salvar el ramo', 'a dar examen', 'Eximido'],\n",
              "      dtype='<U16')"
            ]
          },
          "metadata": {
            "tags": []
          },
          "execution_count": 28
        }
      ]
    },
    {
      "cell_type": "markdown",
      "metadata": {
        "id": "X4znfoqSpaK7"
      },
      "source": [
        "Los ciclos en `python` se caracterizan por tener una sintaxis un poco distinta, aunque intuitiva cuando uno se acostumbra. Tradicionalmente, uno definir un índice que recorre un conjunto de valores `for(i=0, i<n, i++)`. Python recibe \n",
        "- Una lista de valores sobre los que itera\n",
        "- El nombre de una variable que irá recorriendo esa lista\n",
        "- Las instrucciones que se deben ejecutar"
      ]
    },
    {
      "cell_type": "code",
      "metadata": {
        "colab": {
          "base_uri": "https://localhost:8080/",
          "height": 51
        },
        "id": "Brr9RNfdpWDH",
        "outputId": "f7613908-e2ce-40ed-e063-a0e5a65d426d"
      },
      "source": [
        "notas = np.random.normal(4.5, 0.5, 10)\n",
        "notas"
      ],
      "execution_count": null,
      "outputs": [
        {
          "output_type": "execute_result",
          "data": {
            "text/plain": [
              "array([3.90354185, 4.74306707, 4.57243163, 4.74297243, 3.43699184,\n",
              "       4.9506677 , 3.98523619, 5.08617131, 4.66820869, 4.7456069 ])"
            ]
          },
          "metadata": {
            "tags": []
          },
          "execution_count": 29
        }
      ]
    },
    {
      "cell_type": "code",
      "metadata": {
        "colab": {
          "base_uri": "https://localhost:8080/",
          "height": 187
        },
        "id": "dXxSMgglrCGl",
        "outputId": "b834d9dc-4763-48d2-df31-74e7f1caee26"
      },
      "source": [
        "for nota in notas:\n",
        "    print(nota + 0.5)"
      ],
      "execution_count": null,
      "outputs": [
        {
          "output_type": "stream",
          "text": [
            "4.403541849766557\n",
            "5.243067072972285\n",
            "5.072431629207047\n",
            "5.242972431824282\n",
            "3.9369918385984413\n",
            "5.450667702107098\n",
            "4.485236190979473\n",
            "5.586171311669164\n",
            "5.168208690397569\n",
            "5.245606897891811\n"
          ],
          "name": "stdout"
        }
      ]
    },
    {
      "cell_type": "markdown",
      "metadata": {
        "id": "Z2B7FmVtKc1g"
      },
      "source": [
        "Aunque también podemos recorrer un data frame de manera muy parecida a R, esto lo podemos hacer con un iterrows:"
      ]
    },
    {
      "cell_type": "code",
      "metadata": {
        "id": "oQK0ZFciKc1g",
        "outputId": "da0ef553-3a67-4efb-cf6b-bc0ae65a3a13"
      },
      "source": [
        "df"
      ],
      "execution_count": null,
      "outputs": [
        {
          "output_type": "execute_result",
          "data": {
            "text/html": [
              "<div>\n",
              "<style scoped>\n",
              "    .dataframe tbody tr th:only-of-type {\n",
              "        vertical-align: middle;\n",
              "    }\n",
              "\n",
              "    .dataframe tbody tr th {\n",
              "        vertical-align: top;\n",
              "    }\n",
              "\n",
              "    .dataframe thead th {\n",
              "        text-align: right;\n",
              "    }\n",
              "</style>\n",
              "<table border=\"1\" class=\"dataframe\">\n",
              "  <thead>\n",
              "    <tr style=\"text-align: right;\">\n",
              "      <th></th>\n",
              "      <th>meses</th>\n",
              "      <th>poleras</th>\n",
              "    </tr>\n",
              "  </thead>\n",
              "  <tbody>\n",
              "    <tr>\n",
              "      <th>0</th>\n",
              "      <td>Ene</td>\n",
              "      <td>100</td>\n",
              "    </tr>\n",
              "    <tr>\n",
              "      <th>1</th>\n",
              "      <td>Feb</td>\n",
              "      <td>200</td>\n",
              "    </tr>\n",
              "    <tr>\n",
              "      <th>2</th>\n",
              "      <td>Mar</td>\n",
              "      <td>305</td>\n",
              "    </tr>\n",
              "  </tbody>\n",
              "</table>\n",
              "</div>"
            ],
            "text/plain": [
              "  meses  poleras\n",
              "0   Ene      100\n",
              "1   Feb      200\n",
              "2   Mar      305"
            ]
          },
          "metadata": {
            "tags": []
          },
          "execution_count": 31
        }
      ]
    },
    {
      "cell_type": "code",
      "metadata": {
        "id": "5Fa7MVkKKc1g",
        "outputId": "1900d379-8cc3-41ad-c7d8-1f92b898eb69"
      },
      "source": [
        "for i,j in df.iterrows():\n",
        "    print(df['meses'][i])\n",
        "    print(\" \")"
      ],
      "execution_count": null,
      "outputs": [
        {
          "output_type": "stream",
          "text": [
            "Ene\n",
            " \n",
            "Feb\n",
            " \n",
            "Mar\n",
            " \n"
          ],
          "name": "stdout"
        }
      ]
    },
    {
      "cell_type": "markdown",
      "metadata": {
        "id": "jmoJbOf5Kc1g"
      },
      "source": [
        "Necesitamos rescatar el i,j si queremos usar iterrows, i nos da la posicion que buscamos para ser un simil con R, y j nos entregaría toda la fila, que en la práctica no solemos usar"
      ]
    },
    {
      "cell_type": "code",
      "metadata": {
        "id": "2dIjtu62Kc1g",
        "outputId": "d19f8c88-cbe2-4b01-8c3d-a4fcb9885976"
      },
      "source": [
        "for i,j in df.iterrows():\n",
        "    print(j)"
      ],
      "execution_count": null,
      "outputs": [
        {
          "output_type": "stream",
          "text": [
            "meses      Ene\n",
            "poleras    100\n",
            "Name: 0, dtype: object\n",
            "meses      Feb\n",
            "poleras    200\n",
            "Name: 1, dtype: object\n",
            "meses      Mar\n",
            "poleras    305\n",
            "Name: 2, dtype: object\n"
          ],
          "name": "stdout"
        }
      ]
    },
    {
      "cell_type": "markdown",
      "metadata": {
        "id": "N37nfgCCKc1g"
      },
      "source": [
        "## Funciones y programación funcional"
      ]
    },
    {
      "cell_type": "markdown",
      "metadata": {
        "id": "3ITJcrYaKc1g"
      },
      "source": [
        "Las funciones en python trabajan de manera similar a `R` a través del comando `def`"
      ]
    },
    {
      "cell_type": "code",
      "metadata": {
        "id": "nJ3k5o9fKc1h"
      },
      "source": [
        "def primera_funcion(x):\n",
        "    variable_auxiliar = x*2\n",
        "    return variable_auxiliar"
      ],
      "execution_count": null,
      "outputs": []
    },
    {
      "cell_type": "code",
      "metadata": {
        "id": "0EHiZPWzKc1h",
        "outputId": "fcd59146-5b76-459f-e476-93c0f6cdd89b"
      },
      "source": [
        "primera_funcion(3)"
      ],
      "execution_count": null,
      "outputs": [
        {
          "output_type": "execute_result",
          "data": {
            "text/plain": [
              "6"
            ]
          },
          "metadata": {
            "tags": []
          },
          "execution_count": 35
        }
      ]
    },
    {
      "cell_type": "markdown",
      "metadata": {
        "id": "xKOxh31kKc1h"
      },
      "source": [
        "Tampoco es necesario definir variables auxiliares:"
      ]
    },
    {
      "cell_type": "code",
      "metadata": {
        "id": "O2C8lM7dKc1h",
        "outputId": "5735fe5f-066b-46c0-80a3-c65433ae0920"
      },
      "source": [
        "def segunda_funcion(x):\n",
        "    return x*2\n",
        "\n",
        "segunda_funcion(3)"
      ],
      "execution_count": null,
      "outputs": [
        {
          "output_type": "execute_result",
          "data": {
            "text/plain": [
              "6"
            ]
          },
          "metadata": {
            "tags": []
          },
          "execution_count": 36
        }
      ]
    },
    {
      "cell_type": "markdown",
      "metadata": {
        "id": "LGWzF22tKc1h"
      },
      "source": [
        "La programación funcional tiene como objetivo utilizar las funciones `filter`, `map` y `reduce` para poder iterar de manera masiva algo, evitando ciclos `for`. Es la manera en la que se trabaja el mundo del BigData."
      ]
    },
    {
      "cell_type": "markdown",
      "metadata": {
        "id": "bO_hwSZVKc1h"
      },
      "source": [
        "La estructura es map(funcion, objeto_a_iterar)\n",
        "\n",
        "Veremos en el siguiente ejemplo que 'mapearemos' una lista de palabras, y veremos si la primera letra es una 'A' o no. (Solo usaremos mayúsculas para este ejemplo, pero podemos también diferenciar ese aspecto)"
      ]
    },
    {
      "cell_type": "markdown",
      "metadata": {
        "id": "OeLZAv3JKc1h"
      },
      "source": [
        "Primero realizaremos el ejemplo a través de un `for` y luego lo realizaremos de manera funcional.\n",
        "\n",
        "hint: para guardar los resultados dentro de la lista, utilizaremos el comando lista.append()"
      ]
    },
    {
      "cell_type": "code",
      "metadata": {
        "id": "0MiA51bIKc1h",
        "outputId": "65fff29c-94bd-4571-d917-e882231f4eb7"
      },
      "source": [
        "def comienza_con_A(x):\n",
        "    return x[0] == \"A\"\n",
        "\n",
        "colores = ['ROJO','VERDE','AZUL','AMARILLO','NARANJO']\n",
        "\n",
        "vector_auxiliar = []\n",
        "for i in colores:\n",
        "    vector_auxiliar.append(comienza_con_A(i))\n",
        "\n",
        "vector_auxiliar"
      ],
      "execution_count": null,
      "outputs": [
        {
          "output_type": "execute_result",
          "data": {
            "text/plain": [
              "[False, False, True, True, False]"
            ]
          },
          "metadata": {
            "tags": []
          },
          "execution_count": 37
        }
      ]
    },
    {
      "cell_type": "markdown",
      "metadata": {
        "id": "JtNcAuliKc1h"
      },
      "source": [
        "Realizando lo mismo a través de map:"
      ]
    },
    {
      "cell_type": "code",
      "metadata": {
        "id": "W0NzBW9tKc1i",
        "outputId": "c8f0c3eb-d2ac-45c0-9076-6f8375da5545"
      },
      "source": [
        "objeto_mapeado = map(comienza_con_A, colores)\n",
        "objeto_mapeado"
      ],
      "execution_count": null,
      "outputs": [
        {
          "output_type": "execute_result",
          "data": {
            "text/plain": [
              "<map at 0x1c3775317c0>"
            ]
          },
          "metadata": {
            "tags": []
          },
          "execution_count": 38
        }
      ]
    },
    {
      "cell_type": "markdown",
      "metadata": {
        "id": "c5WlhCDqKc1i"
      },
      "source": [
        "Veamos que el objeto no entrega nada, por lo que debemos extraer su resultado como lista:"
      ]
    },
    {
      "cell_type": "code",
      "metadata": {
        "id": "xOjDKjeLKc1i",
        "outputId": "15ef72ff-814a-4e43-e3a0-cd86a974f672"
      },
      "source": [
        "list(objeto_mapeado)"
      ],
      "execution_count": null,
      "outputs": [
        {
          "output_type": "execute_result",
          "data": {
            "text/plain": [
              "[False, False, True, True, False]"
            ]
          },
          "metadata": {
            "tags": []
          },
          "execution_count": 39
        }
      ]
    },
    {
      "cell_type": "markdown",
      "metadata": {
        "id": "tKUDraNhKc1i"
      },
      "source": [
        "Otro beneficio de map es que una función no es necesario que sea guardada en la memoria para poder ser utilizada con map. Se pueden realizar funciones de manera temporal, las cuales son llamadas funciones `lambda`. Su estructura se define como:\n",
        "\n",
        "`lambda x: f(x)`\n",
        "\n",
        "Así, el siguiente caso es igual al anterior, pero sin guardar la funcion en memoria"
      ]
    },
    {
      "cell_type": "code",
      "metadata": {
        "id": "N3Ke64cnKc1i",
        "outputId": "9a80c9b3-384a-4a22-cb98-e5634a10a8af"
      },
      "source": [
        "list(map(lambda x:  x[0] == \"A\", colores))"
      ],
      "execution_count": null,
      "outputs": [
        {
          "output_type": "execute_result",
          "data": {
            "text/plain": [
              "[False, False, True, True, False]"
            ]
          },
          "metadata": {
            "tags": []
          },
          "execution_count": 40
        }
      ]
    },
    {
      "cell_type": "markdown",
      "metadata": {
        "id": "608u-6-CKc1i"
      },
      "source": [
        "El cual es un objeto que gasta menos memoria, es más rápido y más eficiente en código. Ideal para cuando trabajemos con grandes volumenes de datos."
      ]
    },
    {
      "cell_type": "markdown",
      "metadata": {
        "id": "vEFlGHK4Kc1i"
      },
      "source": [
        "Para poder extraer los valores y no un vector, utilizamos el comando `filter` bajo la misma estructura que `map`"
      ]
    },
    {
      "cell_type": "code",
      "metadata": {
        "id": "Vw7ppmImKc1i",
        "outputId": "aa790aac-d00c-4249-a1d4-5b4547b34439"
      },
      "source": [
        "list(filter(lambda x:  x[0] == \"A\", colores))"
      ],
      "execution_count": null,
      "outputs": [
        {
          "output_type": "execute_result",
          "data": {
            "text/plain": [
              "['AZUL', 'AMARILLO']"
            ]
          },
          "metadata": {
            "tags": []
          },
          "execution_count": 41
        }
      ]
    },
    {
      "cell_type": "markdown",
      "metadata": {
        "id": "FES0OrLIKc1i"
      },
      "source": [
        "Finalmente, la función `reduce` funciona de manera diferente a las otras 2 anteriores. Primero que todo, no es nativo a python por lo que debemos importarlo de la libreria `functools `. Luego reduce no devuelve una lista basada en los resultados de cada evaluación, sino una salida única luego de operar sucesivamente. Para ejemplificarlo, supongamos que tenemos una lista y queremos el resultado de la multiplicación de todos los números de esa lista. Primero lo resolveremos con un `for` y luego con `reduce` al igual que antes:"
      ]
    },
    {
      "cell_type": "code",
      "metadata": {
        "id": "GNrHk9PZKc1j",
        "outputId": "ff9415fd-7f16-45e9-c74c-9c8a7239a4c3"
      },
      "source": [
        "productoria = 1\n",
        "numeros = [1, 2, 3, 4]\n",
        "for i in numeros:\n",
        "    productoria = productoria * i\n",
        "\n",
        "productoria"
      ],
      "execution_count": null,
      "outputs": [
        {
          "output_type": "execute_result",
          "data": {
            "text/plain": [
              "24"
            ]
          },
          "metadata": {
            "tags": []
          },
          "execution_count": 42
        }
      ]
    },
    {
      "cell_type": "code",
      "metadata": {
        "id": "SxlrLtBLKc1j",
        "outputId": "a4390bed-c759-4b09-e77c-ac86885e2e70"
      },
      "source": [
        "from functools import reduce\n",
        "productoria = reduce((lambda x, y: x * y), numeros)\n",
        "productoria"
      ],
      "execution_count": null,
      "outputs": [
        {
          "output_type": "execute_result",
          "data": {
            "text/plain": [
              "24"
            ]
          },
          "metadata": {
            "tags": []
          },
          "execution_count": 43
        }
      ]
    },
    {
      "cell_type": "markdown",
      "metadata": {
        "id": "beV8kElXKc1j"
      },
      "source": [
        "Notemos que la función `lambda` internamente definida toma 2 variables, donde la primera es la evaluada en la lista y la segunda es el resultado que lleva acarreando de los calculos sucesivos"
      ]
    },
    {
      "cell_type": "markdown",
      "metadata": {
        "id": "tAE205ZUKc1j"
      },
      "source": [
        "# Ejercicios\n",
        "\n",
        "### 1) Tratamiento inicial:\n",
        "Considere los siguientes datos de peso (en kilos) y altura (en centímetros) de 10 pacientes: "
      ]
    },
    {
      "cell_type": "code",
      "metadata": {
        "id": "yfuKauSGKc1j"
      },
      "source": [
        "pesos=[63,72,83,54,91,53,68,89]\n",
        "alturas=[152, 179, 170, 172, 169, 153, 161, 190]"
      ],
      "execution_count": null,
      "outputs": []
    },
    {
      "cell_type": "markdown",
      "metadata": {
        "id": "4dvGyw-OKc1j"
      },
      "source": [
        "   * a) Entregue el peso y las alturas de los primeros 4 pacientes.\n",
        "   * b) Entregue el peso y las alturas de los últimos 3 pacientes.\n",
        "   * c) Entregue el peso y las alturas de los 2 pacientes de al medio.\n",
        "   * d) Calcule el promedio, varianza y desviación estándar de los pesos y las alturas de los pacientes.\n",
        "   * e) Calcule el rango y el primer, segundo y tercer cuartil de los pesos y las alturas de los pacientes.\n",
        "   * f) Defina una función que calcule el IMC para cada paciente (el IMC corresponde al peso (en kilos) dividido en la altura (en metros cuadrados)\n",
        "   * g) En base a los IMC antes calculados, categorice cada paciente de modo que debajo de 18.5 indique Bajo peso, de 18.5 a 24.9 indique Normal, y en otro caso indique Sobrepeso/Obesidad."
      ]
    },
    {
      "cell_type": "markdown",
      "metadata": {
        "id": "ApT21-pKsG2S"
      },
      "source": [
        "### 2) Datos simulados:\n",
        "- a) Cree un conjunto de datos normalmente distribuidos, con media 100, desviacion estandard 10 y 150 elementos.\n",
        "- b) Calcule el rango y el primer, segundo y tercer cuartil\n",
        "- c) Elimine los elementos con valor mayor o igual a 120"
      ]
    },
    {
      "cell_type": "markdown",
      "metadata": {
        "id": "_sUhl_7tKc1j"
      },
      "source": [
        "### 3)  Map-Reduce\n",
        "#### Hint: para ambos ejercicios le puede ser ayuda la funcion `range`\n",
        "- a) Dado el siguiente vector:"
      ]
    },
    {
      "cell_type": "code",
      "metadata": {
        "id": "uBnkD3DYKc1j"
      },
      "source": [
        "aux = [3.4121571, 5.4441121, 4.93843, 56.12314, 9.61124651, 32.653131113]"
      ],
      "execution_count": null,
      "outputs": []
    },
    {
      "cell_type": "markdown",
      "metadata": {
        "id": "KE0p34p6Kc1j"
      },
      "source": [
        "Utilice la función `round` a través de un `map` para entregar el primer valor del vector aux redondeado a un número, el segundo valor de aux redondeado a dos números, el tercero a tres y así para todos los números de aux, es decir:\n",
        "\n",
        "3.4, 5.44, 4.938, 56.1231, 9.61125, 32.653131"
      ]
    },
    {
      "cell_type": "markdown",
      "metadata": {
        "id": "Muo5HuimKc1j"
      },
      "source": [
        "- b) Con la ayuda de la función reduce, calcule el factorial cualquier número: recordar que el factorial de un numero es la multiplicación suicesiva del mismo numero hasta 1: ejemplo: 5! = 5$\\bullet$4$\\bullet$3$\\bullet$2$\\bullet$1 = 120"
      ]
    },
    {
      "cell_type": "markdown",
      "metadata": {
        "id": "iZ1btyzMKc1j"
      },
      "source": [
        "\n",
        "## Próxima clase\n",
        "Estudiaremos como procesar y manipular tablas usando `pandas`! "
      ]
    }
  ]
}